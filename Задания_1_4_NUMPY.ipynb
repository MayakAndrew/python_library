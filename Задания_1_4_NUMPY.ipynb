{
 "cells": [
  {
   "cell_type": "markdown",
   "id": "9a1e3893",
   "metadata": {},
   "source": [
    "##### Задание 1. Импортируйте библиотеку Numpy и дайте ей псевдоним np. Создайте массив Numpy под названием a размером 5x2, то есть состоящий из 5 строк и 2 столбцов. Первый столбец должен содержать числа 1, 2, 3, 3, 1, а второй - числа 6, 8, 11, 10, 7. Будем считать, что каждый столбец - это признак, а строка - наблюдение. Затем найдите среднее значение по каждому признаку, используя метод mean массива Numpy. Результат запишите в массив mean_a, в нем должно быть 2 элемента."
   ]
  },
  {
   "cell_type": "code",
   "execution_count": 1,
   "id": "5b890ae0",
   "metadata": {},
   "outputs": [],
   "source": [
    "import numpy as np"
   ]
  },
  {
   "cell_type": "code",
   "execution_count": 2,
   "id": "e2d0192f",
   "metadata": {},
   "outputs": [],
   "source": [
    "a = np.array ([[1, 6], \n",
    "               [2, 8],\n",
    "               [3, 11],\n",
    "               [3, 10],\n",
    "               [1, 7]], dtype = float)"
   ]
  },
  {
   "cell_type": "code",
   "execution_count": 4,
   "id": "9b97c15c",
   "metadata": {},
   "outputs": [
    {
     "name": "stdout",
     "output_type": "stream",
     "text": [
      "[2.  8.4]\n"
     ]
    }
   ],
   "source": [
    "mean_a = a.mean(axis = 0).copy()\n",
    "print(mean_a)"
   ]
  },
  {
   "cell_type": "markdown",
   "id": "61d6903e",
   "metadata": {},
   "source": [
    "#### Задание 2. Вычислите массив a_centered, отняв от значений массива “а” средние значения соответствующих признаков, содержащиеся в массиве mean_a. Вычисление должно производиться в одно действие. Получившийся массив должен иметь размер 5x2."
   ]
  },
  {
   "cell_type": "code",
   "execution_count": 75,
   "id": "0f33f18f",
   "metadata": {},
   "outputs": [
    {
     "name": "stdout",
     "output_type": "stream",
     "text": [
      "Результат вычисления: \n",
      " [[-1.  -2.4]\n",
      " [ 0.  -0.4]\n",
      " [ 1.   2.6]\n",
      " [ 1.   1.6]\n",
      " [-1.  -1.4]]\n"
     ]
    }
   ],
   "source": [
    "a_centered = (a - mean_a).copy()\n",
    "print(\"Результат вычисления: \\n {}\" . format(a_centered))"
   ]
  },
  {
   "cell_type": "markdown",
   "id": "a1fdb0af",
   "metadata": {},
   "source": [
    "#### Задание 3. Найдите скалярное произведение столбцов массива a_centered. В результате должна получиться величина a_centered_sp. Затем поделите a_centered_sp на N-1, где N - число наблюдений."
   ]
  },
  {
   "cell_type": "code",
   "execution_count": 81,
   "id": "303327b4",
   "metadata": {},
   "outputs": [
    {
     "name": "stdout",
     "output_type": "stream",
     "text": [
      "Первый столбец: \n",
      " [-1.  0.  1.  1. -1.]\n",
      "Второй столбец: \n",
      " [-2.4 -0.4  2.6  1.6 -1.4]\n",
      "Скалярное произведение: \n",
      " 8.0\n",
      "Результат деления: \n",
      " 2.0\n"
     ]
    }
   ],
   "source": [
    "c = a_centered[0:, 0].copy()\n",
    "print('Первый столбец: \\n', c)\n",
    "d = a_centered [0: , 1].copy()\n",
    "print('Второй столбец: \\n', d)\n",
    "a_centered_sp = c.dot(d)\n",
    "print('Скалярное произведение: \\n', a_centered_sp)\n",
    "f = a.shape\n",
    "g = print('Результат деления: \\n', a_centered_sp / (f[0]-1))"
   ]
  },
  {
   "cell_type": "markdown",
   "id": "e7c688e4",
   "metadata": {},
   "source": [
    "#### Задание 4. В этом задании проверьте получившееся число, вычислив ковариацию еще одним способом - с помощью функции np.cov. В качестве аргумента m функция np.cov должна принимать транспонированный массив “a”. В получившейся ковариационной матрице (массив Numpy размером 2x2) искомое значение ковариации будет равно элементу в строке с индексом 0 и столбце с индексом 1.\n"
   ]
  },
  {
   "cell_type": "code",
   "execution_count": 82,
   "id": "2b447ec8",
   "metadata": {},
   "outputs": [
    {
     "name": "stdout",
     "output_type": "stream",
     "text": [
      "[[ 1.  2.  3.  3.  1.]\n",
      " [ 6.  8. 11. 10.  7.]]\n"
     ]
    }
   ],
   "source": [
    "a_T = a.T\n",
    "print(a_T)"
   ]
  },
  {
   "cell_type": "code",
   "execution_count": 85,
   "id": "6eef3b14",
   "metadata": {},
   "outputs": [
    {
     "name": "stdout",
     "output_type": "stream",
     "text": [
      "2.0\n"
     ]
    }
   ],
   "source": [
    "h = np.cov(a_T)\n",
    "print(h[0, 1])\n"
   ]
  },
  {
   "cell_type": "code",
   "execution_count": null,
   "id": "9f5db841",
   "metadata": {},
   "outputs": [],
   "source": []
  }
 ],
 "metadata": {
  "kernelspec": {
   "display_name": "Python 3 (ipykernel)",
   "language": "python",
   "name": "python3"
  },
  "language_info": {
   "codemirror_mode": {
    "name": "ipython",
    "version": 3
   },
   "file_extension": ".py",
   "mimetype": "text/x-python",
   "name": "python",
   "nbconvert_exporter": "python",
   "pygments_lexer": "ipython3",
   "version": "3.9.12"
  }
 },
 "nbformat": 4,
 "nbformat_minor": 5
}
