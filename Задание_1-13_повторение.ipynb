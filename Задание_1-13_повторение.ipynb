{
 "cells": [
  {
   "cell_type": "markdown",
   "id": "8014847e",
   "metadata": {},
   "source": [
    "#### Задание 1. Создать одномерный массив Numpy под названием a из 12 последовательных целых чисел чисел от 12 до 24 невключительно"
   ]
  },
  {
   "cell_type": "code",
   "execution_count": 2,
   "id": "d05f4361",
   "metadata": {},
   "outputs": [
    {
     "name": "stdout",
     "output_type": "stream",
     "text": [
      "Заданный массив: [12 13 14 15 16 17 18 19 20 21 22 23]\n"
     ]
    }
   ],
   "source": [
    "import numpy as np\n",
    "a = np.arange(12, 24)\n",
    "print('Заданный массив: {}'.format(a))"
   ]
  },
  {
   "cell_type": "markdown",
   "id": "02c8ec22",
   "metadata": {},
   "source": [
    "#### Задание 2. Создать 5 двумерных массивов разной формы из массива a. Не использовать в аргументах метода reshape число -1"
   ]
  },
  {
   "cell_type": "code",
   "execution_count": 16,
   "id": "fee4743e",
   "metadata": {},
   "outputs": [
    {
     "name": "stdout",
     "output_type": "stream",
     "text": [
      "Массив b: [[12 13 14 15 16 17]\n",
      " [18 19 20 21 22 23]]\n",
      "Массив c: [[12 13 14 15]\n",
      " [16 17 18 19]\n",
      " [20 21 22 23]]\n",
      "Массив d: [[12 13 14]\n",
      " [15 16 17]\n",
      " [18 19 20]\n",
      " [21 22 23]]\n",
      "Массив e: [[12 13]\n",
      " [14 15]\n",
      " [16 17]\n",
      " [18 19]\n",
      " [20 21]\n",
      " [22 23]]\n",
      "Массив f: [[12]\n",
      " [13]\n",
      " [14]\n",
      " [15]\n",
      " [16]\n",
      " [17]\n",
      " [18]\n",
      " [19]\n",
      " [20]\n",
      " [21]\n",
      " [22]\n",
      " [23]]\n"
     ]
    }
   ],
   "source": [
    "print('Массив b: {}'  .format(a.reshape(2, 6)))\n",
    "print('Массив c: {}'.format(a.reshape(3, 4)))\n",
    "print('Массив d: {}'.format(a.reshape(4, 3)))\n",
    "print('Массив e: {}'.format(a.reshape(6, 2)))\n",
    "print('Массив f: {}'.format(a.reshape(12, 1)))"
   ]
  },
  {
   "cell_type": "markdown",
   "id": "2c2009f0",
   "metadata": {},
   "source": [
    "#### Задание 3. Создать 5 двумерных массивов разной формы из массива a. Использовать в аргументах метода reshape число -1 (в трех примерах - для обозначения числа столбцов, в двух - для строк)"
   ]
  },
  {
   "cell_type": "code",
   "execution_count": 26,
   "id": "7ee703cd",
   "metadata": {},
   "outputs": [
    {
     "name": "stdout",
     "output_type": "stream",
     "text": [
      "Массив b:[[12 13 14 15 16 17]\n",
      " [18 19 20 21 22 23]]\n",
      "Массив c:[[12 13 14 15]\n",
      " [16 17 18 19]\n",
      " [20 21 22 23]]\n",
      "Массив d:[[12 13 14]\n",
      " [15 16 17]\n",
      " [18 19 20]\n",
      " [21 22 23]]\n",
      "Массив e:[[12 13]\n",
      " [14 15]\n",
      " [16 17]\n",
      " [18 19]\n",
      " [20 21]\n",
      " [22 23]]\n",
      "Массив f:[[12]\n",
      " [13]\n",
      " [14]\n",
      " [15]\n",
      " [16]\n",
      " [17]\n",
      " [18]\n",
      " [19]\n",
      " [20]\n",
      " [21]\n",
      " [22]\n",
      " [23]]\n"
     ]
    }
   ],
   "source": [
    "print('Массив b:{}'.format(a.reshape(2, -1)))\n",
    "print('Массив c:{}'.format(a.reshape(3, -1)))\n",
    "print('Массив d:{}'.format(a.reshape(4, -1)))\n",
    "print('Массив e:{}'.format(a.reshape(-1, 2)))\n",
    "print('Массив f:{}'.format(a.reshape(-1, 1)))"
   ]
  },
  {
   "cell_type": "markdown",
   "id": "48983bac",
   "metadata": {},
   "source": [
    "#### Задание 4. Можно ли массив Numpy, состоящий из одного столбца и 12 строк, назвать одномерным?\n",
    "нет"
   ]
  },
  {
   "cell_type": "markdown",
   "id": "7737c265",
   "metadata": {},
   "source": [
    "#### Задание 5. Создать массив из 3 строк и 4 столбцов, состоящий из случайных чисел с плавающей запятой из нормального распределения со средним, равным 0 и среднеквадратичным отклонением, равным 1.0. Получить из этого массива одномерный массив с таким же атрибутом size, как и исходный массив"
   ]
  },
  {
   "cell_type": "code",
   "execution_count": 51,
   "id": "431515c1",
   "metadata": {},
   "outputs": [
    {
     "name": "stdout",
     "output_type": "stream",
     "text": [
      "Массив: [[-0.47495103 -1.18541358  0.90465834  0.20776258]\n",
      " [ 1.56451995 -0.47411606 -0.49521076 -1.1271858 ]\n",
      " [ 0.39088138 -0.18620786  0.72639707  0.20472984]]\n",
      "12\n",
      "Одномерный массив: [-0.47495103 -1.18541358  0.90465834  0.20776258  1.56451995 -0.47411606\n",
      " -0.49521076 -1.1271858   0.39088138 -0.18620786  0.72639707  0.20472984]\n",
      "12\n"
     ]
    }
   ],
   "source": [
    "a = np.random.randn(3, 4)\n",
    "print('Массив: {}'.format(a))\n",
    "print(a.size)\n",
    "c = a.flatten()\n",
    "print('Одномерный массив: {}'.format(c))\n",
    "print(c.size)"
   ]
  },
  {
   "cell_type": "markdown",
   "id": "2327aaad",
   "metadata": {},
   "source": [
    "#### Задание 6. Создать массив a, состоящий из целых чисел, убывающих от 20 до 0 невключительно с интервалом 2"
   ]
  },
  {
   "cell_type": "code",
   "execution_count": 6,
   "id": "5b7f3027",
   "metadata": {},
   "outputs": [
    {
     "name": "stdout",
     "output_type": "stream",
     "text": [
      "[20 18 16 14 12 10  8  6  4  2]\n"
     ]
    }
   ],
   "source": [
    "a = np.arange(20, 0, -2)\n",
    "print(a)"
   ]
  },
  {
   "cell_type": "markdown",
   "id": "56d4ac67",
   "metadata": {},
   "source": [
    "#### Задание 7. Создать массив b, состоящий из 1 строки и 10 столбцов: целых чисел, убывающих от 20 до 1 невключительно с интервалом 2. В чем разница между массивами a и b?"
   ]
  },
  {
   "cell_type": "code",
   "execution_count": 9,
   "id": "8dd9f8f7",
   "metadata": {},
   "outputs": [
    {
     "name": "stdout",
     "output_type": "stream",
     "text": [
      "[20 18 16 14 12 10  8  6  4  2]\n"
     ]
    }
   ],
   "source": [
    "b = np.arange(20, 1, -2)\n",
    "print(b)"
   ]
  },
  {
   "cell_type": "code",
   "execution_count": 10,
   "id": "147a5b64",
   "metadata": {},
   "outputs": [
    {
     "data": {
      "text/plain": [
       "True"
      ]
     },
     "execution_count": 10,
     "metadata": {},
     "output_type": "execute_result"
    }
   ],
   "source": [
    "np.array_equal(a, b)"
   ]
  },
  {
   "cell_type": "markdown",
   "id": "98687ad6",
   "metadata": {},
   "source": [
    "нет разницы. Одинаковы"
   ]
  },
  {
   "cell_type": "markdown",
   "id": "1be5963c",
   "metadata": {},
   "source": [
    "#### Задание 8. Вертикально соединить массивы a и b. a - двумерный массив из нулей, число строк которого больше 1 и на 1 меньше, чем число строк двумерного массива b, состоящего из единиц. Итоговый массив v должен иметь атрибут size, равный 10"
   ]
  },
  {
   "cell_type": "code",
   "execution_count": 19,
   "id": "648c1034",
   "metadata": {},
   "outputs": [
    {
     "name": "stdout",
     "output_type": "stream",
     "text": [
      "[[0. 0.]\n",
      " [0. 0.]\n",
      " [1. 1.]\n",
      " [1. 1.]\n",
      " [1. 1.]]\n",
      "10\n"
     ]
    },
    {
     "data": {
      "text/plain": [
       "10"
      ]
     },
     "execution_count": 19,
     "metadata": {},
     "output_type": "execute_result"
    }
   ],
   "source": [
    "a = np.zeros((2, 2))\n",
    "b = np.ones((3, 2))\n",
    "v = np.vstack((a, b))\n",
    "print(v)\n",
    "print(a.size + b.size)\n",
    "v.size"
   ]
  },
  {
   "cell_type": "markdown",
   "id": "7af29c84",
   "metadata": {},
   "source": [
    "#### Задание 9. Создать одномерный массив а, состоящий из последовательности целых чисел от 0 до 12. Поменять форму этого массива, чтобы получилась матрица A (двумерный массив Numpy), состоящая из 4 строк и 3 столбцов. Получить матрицу At путем транспонирования матрицы A. Получить матрицу B, умножив матрицу A на матрицу At с помощью матричного умножения. Какой размер имеет матрица B? Получится ли вычислить обратную матрицу для матрицы B и почему?"
   ]
  },
  {
   "cell_type": "code",
   "execution_count": 33,
   "id": "7d201bba",
   "metadata": {},
   "outputs": [
    {
     "name": "stdout",
     "output_type": "stream",
     "text": [
      "Одномерный массив a:[ 0  1  2  3  4  5  6  7  8  9 10 11]\n",
      "Матрица А (4х3):[[ 0  1  2]\n",
      " [ 3  4  5]\n",
      " [ 6  7  8]\n",
      " [ 9 10 11]]\n",
      "Обратная матрица А_Т:[[ 0  3  6  9]\n",
      " [ 1  4  7 10]\n",
      " [ 2  5  8 11]]\n",
      "Матрица произведения АхА_Т:[[  5  14  23  32]\n",
      " [ 14  50  86 122]\n",
      " [ 23  86 149 212]\n",
      " [ 32 122 212 302]]\n"
     ]
    },
    {
     "data": {
      "text/plain": [
       "0.0"
      ]
     },
     "execution_count": 33,
     "metadata": {},
     "output_type": "execute_result"
    }
   ],
   "source": [
    "a = np.arange(12)\n",
    "print('Одномерный массив a:{}'.format(a))\n",
    "A = a.reshape(4, 3)\n",
    "print('Матрица А (4х3):{}'.format(A))\n",
    "#A = np.reshape((a, (4, 3))\n",
    "A_T = A.T\n",
    "print('Обратная матрица А_Т:{}'.format(A_T))\n",
    "B = A.dot(A_T)\n",
    "print('Матрица произведения АхА_Т:{}'.format(B))\n",
    "np.linalg.det(B)"
   ]
  },
  {
   "cell_type": "markdown",
   "id": "afb7a8ae",
   "metadata": {},
   "source": [
    "определитель матрицы В равен нулю, соответственно обратной матрицы не существует"
   ]
  },
  {
   "cell_type": "markdown",
   "id": "9c48f36f",
   "metadata": {},
   "source": [
    "#### Задание 10. Инициализируйте генератор случайных числе с помощью объекта seed, равного 42"
   ]
  },
  {
   "cell_type": "code",
   "execution_count": 13,
   "id": "9a861164",
   "metadata": {},
   "outputs": [],
   "source": [
    "c = np.random.seed(42)"
   ]
  },
  {
   "cell_type": "markdown",
   "id": "9e2f282d",
   "metadata": {},
   "source": [
    "#### Задание 11. Создайте одномерный массив c, составленный из последовательности 16-ти случайных равномерно распределенных целых чисел от 0 до 16 невключительно"
   ]
  },
  {
   "cell_type": "code",
   "execution_count": 28,
   "id": "88fb11ad",
   "metadata": {},
   "outputs": [
    {
     "name": "stdout",
     "output_type": "stream",
     "text": [
      "[[13 13 14 13  2 11  6  3 15  8  2  4  2  6  4  8]]\n"
     ]
    }
   ],
   "source": [
    "c = np.random.randint(0, 16, (1, 16))\n",
    "print(c)"
   ]
  },
  {
   "cell_type": "markdown",
   "id": "cd300444",
   "metadata": {},
   "source": [
    "#### Задание 12. Поменяйте его форму так, чтобы получилась квадратная матрица C. Получите матрицу D, поэлементно прибавив матрицу B из предыдущего вопроса к матрице C, умноженной на 10. Вычислите определитель, ранг и обратную матрицу D_inv для D"
   ]
  },
  {
   "cell_type": "code",
   "execution_count": 29,
   "id": "e5bd507f",
   "metadata": {},
   "outputs": [
    {
     "name": "stdout",
     "output_type": "stream",
     "text": [
      "[[13 13 14 13]\n",
      " [ 2 11  6  3]\n",
      " [15  8  2  4]\n",
      " [ 2  6  4  8]]\n"
     ]
    }
   ],
   "source": [
    "C = c.reshape(4, 4)\n",
    "print(C)\n",
    "#c = np.random.choise(A, (1, 16))"
   ]
  },
  {
   "cell_type": "code",
   "execution_count": 31,
   "id": "34739ddf",
   "metadata": {},
   "outputs": [
    {
     "name": "stdout",
     "output_type": "stream",
     "text": [
      "[[1300 1300 1400 1300]\n",
      " [ 200 1100  600  300]\n",
      " [1500  800  200  400]\n",
      " [ 200  600  400  800]]\n"
     ]
    }
   ],
   "source": [
    "C = C * 10\n",
    "print(C)"
   ]
  },
  {
   "cell_type": "code",
   "execution_count": 34,
   "id": "a2c6ee0c",
   "metadata": {},
   "outputs": [
    {
     "name": "stdout",
     "output_type": "stream",
     "text": [
      "[[1305 1314 1423 1332]\n",
      " [ 214 1150  686  422]\n",
      " [1523  886  349  612]\n",
      " [ 232  722  612 1102]]\n"
     ]
    }
   ],
   "source": [
    "D = C + B\n",
    "print(D)"
   ]
  },
  {
   "cell_type": "code",
   "execution_count": 35,
   "id": "8370476d",
   "metadata": {},
   "outputs": [
    {
     "name": "stdout",
     "output_type": "stream",
     "text": [
      "Определитель матрицы D:-803941840000.0007\n"
     ]
    }
   ],
   "source": [
    "d = np.linalg.det(D)\n",
    "print('Определитель матрицы D:{}'.format(d))"
   ]
  },
  {
   "cell_type": "code",
   "execution_count": 36,
   "id": "8946883b",
   "metadata": {},
   "outputs": [
    {
     "name": "stdout",
     "output_type": "stream",
     "text": [
      "Ранг матрицы D:4\n"
     ]
    }
   ],
   "source": [
    "r = np.linalg.matrix_rank(D)\n",
    "print('Ранг матрицы D:{}'.format(r))"
   ]
  },
  {
   "cell_type": "code",
   "execution_count": 41,
   "id": "4a1dc8e4",
   "metadata": {},
   "outputs": [
    {
     "name": "stdout",
     "output_type": "stream",
     "text": [
      "[[ 0.00028935 -0.00044876  0.00054492 -0.00048052]\n",
      " [-0.00086154  0.00129294  0.00051708  0.00025907]\n",
      " [ 0.00158611 -0.00016216 -0.00115109 -0.00121579]\n",
      " [-0.00037731 -0.00066257  0.00018577  0.00151406]]\n"
     ]
    }
   ],
   "source": [
    "D_inv = np.linalg.inv(D)\n",
    "print(D_inv)"
   ]
  },
  {
   "cell_type": "markdown",
   "id": "4a56d0b9",
   "metadata": {},
   "source": [
    "#### Задание 13. Приравняйте к нулю отрицательные числа в матрице D_inv, а положительные - к единице. Убедитесь, что в матрице D_inv остались только нули и единицы. С помощью функции numpy.where, используя матрицу D_inv в качестве маски, а матрицы B и C - в качестве источников данных, получите матрицу E размером 4x4.  Элементы матрицы E, для которых соответствующий элемент матрицы D_inv равен 1, должны быть равны соответствующему элементу матрицы B, а элементы матрицы E, для которых соответствующий элемент матрицы D_inv равен 0, должны быть равны соответствующему элементу матрицы C"
   ]
  },
  {
   "cell_type": "code",
   "execution_count": 44,
   "id": "9caf7a22",
   "metadata": {},
   "outputs": [
    {
     "name": "stdout",
     "output_type": "stream",
     "text": [
      "[[0.00028935 0.         0.00054492 0.        ]\n",
      " [0.         0.00129294 0.00051708 0.00025907]\n",
      " [0.00158611 0.         0.         0.        ]\n",
      " [0.         0.         0.00018577 0.00151406]]\n",
      "[[1. 0. 1. 0.]\n",
      " [0. 1. 1. 1.]\n",
      " [1. 0. 0. 0.]\n",
      " [0. 0. 1. 1.]]\n"
     ]
    }
   ],
   "source": [
    "index = np.where(D_inv < 0)\n",
    "D_inv[index] = 0\n",
    "print(D_inv)\n",
    "index = np.where(D_inv > 0)\n",
    "D_inv[index] = 1\n",
    "print(D_inv)"
   ]
  },
  {
   "cell_type": "code",
   "execution_count": 45,
   "id": "36f7ee54",
   "metadata": {},
   "outputs": [
    {
     "name": "stdout",
     "output_type": "stream",
     "text": [
      "[[1. 0. 1. 0.]\n",
      " [0. 1. 1. 1.]\n",
      " [1. 0. 0. 0.]\n",
      " [0. 0. 1. 1.]]\n"
     ]
    }
   ],
   "source": [
    "E = D_inv.copy()\n",
    "print(E)"
   ]
  },
  {
   "cell_type": "code",
   "execution_count": 48,
   "id": "e110884e",
   "metadata": {},
   "outputs": [
    {
     "name": "stdout",
     "output_type": "stream",
     "text": [
      "[[   5 1300   23 1300]\n",
      " [ 200   50   86  122]\n",
      " [  23  800  200  400]\n",
      " [ 200  600  212  302]]\n"
     ]
    }
   ],
   "source": [
    "E = np.where(D_inv, B, C)\n",
    "print(E)"
   ]
  }
 ],
 "metadata": {
  "kernelspec": {
   "display_name": "Python 3 (ipykernel)",
   "language": "python",
   "name": "python3"
  },
  "language_info": {
   "codemirror_mode": {
    "name": "ipython",
    "version": 3
   },
   "file_extension": ".py",
   "mimetype": "text/x-python",
   "name": "python",
   "nbconvert_exporter": "python",
   "pygments_lexer": "ipython3",
   "version": "3.9.12"
  }
 },
 "nbformat": 4,
 "nbformat_minor": 5
}
